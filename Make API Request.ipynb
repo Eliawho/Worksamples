{
  "nbformat": 4,
  "nbformat_minor": 0,
  "metadata": {
    "colab": {
      "name": "API_Python.ipynb",
      "provenance": []
    },
    "kernelspec": {
      "name": "python3",
      "display_name": "Python 3"
    }
  },
  "cells": [
    {
      "cell_type": "code",
      "metadata": {
        "id": "BZT_VUiSgVTr",
        "colab_type": "code",
        "outputId": "fc60bd45-a7df-4892-b448-2442d7ea29db",
        "colab": {
          "base_uri": "https://localhost:8080/",
          "height": 1000
        }
      },
      "source": [
        "import requests\n",
        "import pprint\n",
        "query = {'q':'tetris+language:assembly', 'sort':'stars','order':'desc'}\n",
        "url ='https://api.github.com/search/repositories'\n",
        "response = requests.get(url, params=query)\n",
        "response.status_code\n",
        "print(response.ok)\n",
        "data = response.json()\n",
        "data\n",
        "# list all the keys in this dictionary\n",
        "print(data.keys())\n",
        "\n",
        "# What is the value of the total_count?\n",
        "print(f'The value of the total_count is {data[\"total_count\"]}')\n",
        "\n",
        "# how many items in the items array\n",
        "print(f'There are {len(data[\"items\"])} repos in the items array.')\n",
        "data_items = data[\"items\"]\n",
        "\n",
        "# get the first item in the array.\n",
        "pprint.pprint(data_items[0])\n",
        "\n",
        "# what are the keys of the item?\n",
        "item1 = data_items[0]\n",
        "print(item1.keys())\n",
        "\n",
        "# WHY ITEM1 IS A DICTIONARY BUT QUATING IT WONT TAKE {}.\n",
        "# WHY QUOTING FIRST DIC IN A LIST THE NUMBER SHOULD BE PUT OUTSIDE"
      ],
      "execution_count": 0,
      "outputs": [
        {
          "output_type": "stream",
          "text": [
            "True\n",
            "dict_keys(['total_count', 'incomplete_results', 'items'])\n",
            "The value of the total_count is 294\n",
            "There are 30 repos in the items array.\n",
            "{'archive_url': 'https://api.github.com/repos/daniel-e/tetros/{archive_format}{/ref}',\n",
            " 'archived': False,\n",
            " 'assignees_url': 'https://api.github.com/repos/daniel-e/tetros/assignees{/user}',\n",
            " 'blobs_url': 'https://api.github.com/repos/daniel-e/tetros/git/blobs{/sha}',\n",
            " 'branches_url': 'https://api.github.com/repos/daniel-e/tetros/branches{/branch}',\n",
            " 'clone_url': 'https://github.com/daniel-e/tetros.git',\n",
            " 'collaborators_url': 'https://api.github.com/repos/daniel-e/tetros/collaborators{/collaborator}',\n",
            " 'comments_url': 'https://api.github.com/repos/daniel-e/tetros/comments{/number}',\n",
            " 'commits_url': 'https://api.github.com/repos/daniel-e/tetros/commits{/sha}',\n",
            " 'compare_url': 'https://api.github.com/repos/daniel-e/tetros/compare/{base}...{head}',\n",
            " 'contents_url': 'https://api.github.com/repos/daniel-e/tetros/contents/{+path}',\n",
            " 'contributors_url': 'https://api.github.com/repos/daniel-e/tetros/contributors',\n",
            " 'created_at': '2016-09-22T10:42:55Z',\n",
            " 'default_branch': 'master',\n",
            " 'deployments_url': 'https://api.github.com/repos/daniel-e/tetros/deployments',\n",
            " 'description': 'Tetris that fits into the boot sector.',\n",
            " 'disabled': False,\n",
            " 'downloads_url': 'https://api.github.com/repos/daniel-e/tetros/downloads',\n",
            " 'events_url': 'https://api.github.com/repos/daniel-e/tetros/events',\n",
            " 'fork': False,\n",
            " 'forks': 39,\n",
            " 'forks_count': 39,\n",
            " 'forks_url': 'https://api.github.com/repos/daniel-e/tetros/forks',\n",
            " 'full_name': 'daniel-e/tetros',\n",
            " 'git_commits_url': 'https://api.github.com/repos/daniel-e/tetros/git/commits{/sha}',\n",
            " 'git_refs_url': 'https://api.github.com/repos/daniel-e/tetros/git/refs{/sha}',\n",
            " 'git_tags_url': 'https://api.github.com/repos/daniel-e/tetros/git/tags{/sha}',\n",
            " 'git_url': 'git://github.com/daniel-e/tetros.git',\n",
            " 'has_downloads': True,\n",
            " 'has_issues': True,\n",
            " 'has_pages': False,\n",
            " 'has_projects': True,\n",
            " 'has_wiki': True,\n",
            " 'homepage': '',\n",
            " 'hooks_url': 'https://api.github.com/repos/daniel-e/tetros/hooks',\n",
            " 'html_url': 'https://github.com/daniel-e/tetros',\n",
            " 'id': 68911683,\n",
            " 'issue_comment_url': 'https://api.github.com/repos/daniel-e/tetros/issues/comments{/number}',\n",
            " 'issue_events_url': 'https://api.github.com/repos/daniel-e/tetros/issues/events{/number}',\n",
            " 'issues_url': 'https://api.github.com/repos/daniel-e/tetros/issues{/number}',\n",
            " 'keys_url': 'https://api.github.com/repos/daniel-e/tetros/keys{/key_id}',\n",
            " 'labels_url': 'https://api.github.com/repos/daniel-e/tetros/labels{/name}',\n",
            " 'language': 'Assembly',\n",
            " 'languages_url': 'https://api.github.com/repos/daniel-e/tetros/languages',\n",
            " 'license': {'key': 'mit',\n",
            "             'name': 'MIT License',\n",
            "             'node_id': 'MDc6TGljZW5zZTEz',\n",
            "             'spdx_id': 'MIT',\n",
            "             'url': 'https://api.github.com/licenses/mit'},\n",
            " 'merges_url': 'https://api.github.com/repos/daniel-e/tetros/merges',\n",
            " 'milestones_url': 'https://api.github.com/repos/daniel-e/tetros/milestones{/number}',\n",
            " 'mirror_url': None,\n",
            " 'name': 'tetros',\n",
            " 'node_id': 'MDEwOlJlcG9zaXRvcnk2ODkxMTY4Mw==',\n",
            " 'notifications_url': 'https://api.github.com/repos/daniel-e/tetros/notifications{?since,all,participating}',\n",
            " 'open_issues': 0,\n",
            " 'open_issues_count': 0,\n",
            " 'owner': {'avatar_url': 'https://avatars2.githubusercontent.com/u/5294331?v=4',\n",
            "           'events_url': 'https://api.github.com/users/daniel-e/events{/privacy}',\n",
            "           'followers_url': 'https://api.github.com/users/daniel-e/followers',\n",
            "           'following_url': 'https://api.github.com/users/daniel-e/following{/other_user}',\n",
            "           'gists_url': 'https://api.github.com/users/daniel-e/gists{/gist_id}',\n",
            "           'gravatar_id': '',\n",
            "           'html_url': 'https://github.com/daniel-e',\n",
            "           'id': 5294331,\n",
            "           'login': 'daniel-e',\n",
            "           'node_id': 'MDQ6VXNlcjUyOTQzMzE=',\n",
            "           'organizations_url': 'https://api.github.com/users/daniel-e/orgs',\n",
            "           'received_events_url': 'https://api.github.com/users/daniel-e/received_events',\n",
            "           'repos_url': 'https://api.github.com/users/daniel-e/repos',\n",
            "           'site_admin': False,\n",
            "           'starred_url': 'https://api.github.com/users/daniel-e/starred{/owner}{/repo}',\n",
            "           'subscriptions_url': 'https://api.github.com/users/daniel-e/subscriptions',\n",
            "           'type': 'User',\n",
            "           'url': 'https://api.github.com/users/daniel-e'},\n",
            " 'private': False,\n",
            " 'pulls_url': 'https://api.github.com/repos/daniel-e/tetros/pulls{/number}',\n",
            " 'pushed_at': '2016-12-18T13:32:27Z',\n",
            " 'releases_url': 'https://api.github.com/repos/daniel-e/tetros/releases{/id}',\n",
            " 'score': 1.0,\n",
            " 'size': 171,\n",
            " 'ssh_url': 'git@github.com:daniel-e/tetros.git',\n",
            " 'stargazers_count': 685,\n",
            " 'stargazers_url': 'https://api.github.com/repos/daniel-e/tetros/stargazers',\n",
            " 'statuses_url': 'https://api.github.com/repos/daniel-e/tetros/statuses/{sha}',\n",
            " 'subscribers_url': 'https://api.github.com/repos/daniel-e/tetros/subscribers',\n",
            " 'subscription_url': 'https://api.github.com/repos/daniel-e/tetros/subscription',\n",
            " 'svn_url': 'https://github.com/daniel-e/tetros',\n",
            " 'tags_url': 'https://api.github.com/repos/daniel-e/tetros/tags',\n",
            " 'teams_url': 'https://api.github.com/repos/daniel-e/tetros/teams',\n",
            " 'trees_url': 'https://api.github.com/repos/daniel-e/tetros/git/trees{/sha}',\n",
            " 'updated_at': '2020-02-12T22:38:58Z',\n",
            " 'url': 'https://api.github.com/repos/daniel-e/tetros',\n",
            " 'watchers': 685,\n",
            " 'watchers_count': 685}\n",
            "dict_keys(['id', 'node_id', 'name', 'full_name', 'private', 'owner', 'html_url', 'description', 'fork', 'url', 'forks_url', 'keys_url', 'collaborators_url', 'teams_url', 'hooks_url', 'issue_events_url', 'events_url', 'assignees_url', 'branches_url', 'tags_url', 'blobs_url', 'git_tags_url', 'git_refs_url', 'trees_url', 'statuses_url', 'languages_url', 'stargazers_url', 'contributors_url', 'subscribers_url', 'subscription_url', 'commits_url', 'git_commits_url', 'comments_url', 'issue_comment_url', 'contents_url', 'compare_url', 'merges_url', 'archive_url', 'downloads_url', 'issues_url', 'pulls_url', 'milestones_url', 'notifications_url', 'labels_url', 'releases_url', 'deployments_url', 'created_at', 'updated_at', 'pushed_at', 'git_url', 'ssh_url', 'clone_url', 'svn_url', 'homepage', 'size', 'stargazers_count', 'watchers_count', 'language', 'has_issues', 'has_projects', 'has_downloads', 'has_wiki', 'has_pages', 'forks_count', 'mirror_url', 'archived', 'disabled', 'open_issues_count', 'license', 'forks', 'open_issues', 'watchers', 'default_branch', 'score'])\n"
          ],
          "name": "stdout"
        }
      ]
    },
    {
      "cell_type": "code",
      "metadata": {
        "id": "LiH0sCoFVayY",
        "colab_type": "code",
        "colab": {}
      },
      "source": [
        ""
      ],
      "execution_count": 0,
      "outputs": []
    },
    {
      "cell_type": "code",
      "metadata": {
        "id": "T2tK--4mbTMf",
        "colab_type": "code",
        "outputId": "2b6b8db0-eaca-4b24-8f3d-b73733ff95fb",
        "colab": {
          "base_uri": "https://localhost:8080/",
          "height": 85
        }
      },
      "source": [
        "import requests\n",
        "broken_url = 'http://api.github.com/this_is_broken'\n",
        "broken_response = requests.get(broken_url)\n",
        "print(broken_response.ok)\n",
        "print(broken_response.status_code)\n",
        "\n",
        "some_data=broken_response.json()\n",
        "some_data"
      ],
      "execution_count": 0,
      "outputs": [
        {
          "output_type": "stream",
          "text": [
            "False\n",
            "404\n"
          ],
          "name": "stdout"
        },
        {
          "output_type": "execute_result",
          "data": {
            "text/plain": [
              "{'documentation_url': 'https://developer.github.com/v3',\n",
              " 'message': 'Not Found'}"
            ]
          },
          "metadata": {
            "tags": []
          },
          "execution_count": 4
        }
      ]
    },
    {
      "cell_type": "code",
      "metadata": {
        "id": "IQli8s_UefFQ",
        "colab_type": "code",
        "outputId": "383d7a83-34d9-4d9f-8e21-d8374133e02c",
        "colab": {
          "base_uri": "https://localhost:8080/",
          "height": 1000
        }
      },
      "source": [
        "baseurl = \"https://api.fda.gov/food/enforcement.json?search=\"\n",
        "\n",
        "parameters = {\"distribution_pattern\": \"nationwide\"}\n",
        "limit = 5\n",
        "request = \"\"\n",
        "for k, v in parameters.items():\n",
        "  request += \"{}:{}&\".format(k,v)\n",
        "request += \"limit={}\".format(limit)\n",
        "\n",
        "url = baseurl + request\n",
        "print(url)\n",
        "response = requests.get(url)\n",
        "print(response.ok)\n",
        "data = response.json()\n",
        "data"
      ],
      "execution_count": 0,
      "outputs": [
        {
          "output_type": "stream",
          "text": [
            "https://api.fda.gov/food/enforcement.json?search=distribution_pattern:nationwide&limit=5\n",
            "True\n"
          ],
          "name": "stdout"
        },
        {
          "output_type": "execute_result",
          "data": {
            "text/plain": [
              "{'meta': {'disclaimer': 'Do not rely on openFDA to make decisions regarding medical care. While we make every effort to ensure that data is accurate, you should assume all results are unvalidated. We may limit or otherwise restrict your access to the API in line with our Terms of Service.',\n",
              "  'last_updated': '2019-12-14',\n",
              "  'license': 'https://open.fda.gov/license/',\n",
              "  'results': {'limit': 5, 'skip': 0, 'total': 4111},\n",
              "  'terms': 'https://open.fda.gov/terms/'},\n",
              " 'results': [{'address_1': '2240 75th St',\n",
              "   'address_2': '',\n",
              "   'center_classification_date': '20161026',\n",
              "   'city': 'Woodridge',\n",
              "   'classification': 'Class II',\n",
              "   'code_info': 'Lots: 701-2418; 2201-2583',\n",
              "   'country': 'United States',\n",
              "   'distribution_pattern': 'Nationwide in U.S. and Canada',\n",
              "   'event_id': '75097',\n",
              "   'initial_firm_notification': 'Telephone',\n",
              "   'more_code_info': None,\n",
              "   'openfda': {},\n",
              "   'postal_code': '60517-2333',\n",
              "   'product_description': 'Wilton Purple Airbrush Color, Net Wt 0.64 FL OZ (19 mL)',\n",
              "   'product_quantity': '14,595 bottles',\n",
              "   'product_type': 'Food',\n",
              "   'reason_for_recall': 'Airbrush color has the potential to be contaminated with mold, yeast or bacteria.',\n",
              "   'recall_initiation_date': '20160906',\n",
              "   'recall_number': 'F-0365-2017',\n",
              "   'recalling_firm': 'Wilton Brands.',\n",
              "   'report_date': '20161102',\n",
              "   'state': 'IL',\n",
              "   'status': 'Terminated',\n",
              "   'termination_date': '20190719',\n",
              "   'voluntary_mandated': 'Voluntary: Firm initiated'},\n",
              "  {'address_1': '2500 S Pacific Hwy',\n",
              "   'address_2': '',\n",
              "   'center_classification_date': '20121026',\n",
              "   'city': 'Medford',\n",
              "   'classification': 'Class I',\n",
              "   'code_info': 'Best By Date on the recalled nut products - 01MAY11 through 24SEPT13.    The lot code format for the baskets is DDDYM(H or C), with DDD representing the Julian date, Y representing the year, and letter M, H or C representing the production facility, printed on the shipping container.  The affected lots would have been between 1460M(H or C) to 2682M(H or C).',\n",
              "   'country': 'United States',\n",
              "   'distribution_pattern': 'Nationwide and Canada through online ordering www.harryanddavid.com/h/home and through retail stores located throught the U.S.',\n",
              "   'event_id': '63306',\n",
              "   'initial_firm_notification': 'Two or more of the following: Email, Fax, Letter, Press Release, Telephone, Visit',\n",
              "   'more_code_info': None,\n",
              "   'openfda': {},\n",
              "   'postal_code': '97501-8724',\n",
              "   'product_description': 'Harry & David Creamy Raspberry Peanut Spread, 12 oz. jars, labeled in part: \"HARRY & DAVID CREAMY RASPBERRY PEANUT SPREAD***NET WT. 12 OZ. (340g)***INGREDIENTS: ROASTED PEANUTS, SUGAR, RASPBERRY COMPOUND***MADE FOR: HARRY AND DAVID MEDFORD, OR 97501***7 80994 73872 0***\"    The 12 oz. jars are sold individually and also as gift add-ons for gift baskets.     The gift baskets are listed below:    Harry & David Apple Snack Box;  Wolferman\\'s Bee Sweet Gift Basket;  Wolferman\\'s Hearty Snack Gift Basket;  Wolferman\\'s All-Day Assortment Gift Basket;  Wolferman\\'s Fathers Day Basket',\n",
              "   'product_quantity': '15,264 - 12 oz. jars',\n",
              "   'product_type': 'Food',\n",
              "   'reason_for_recall': 'Product received from supplier is being recalled due to the potential to be contaminated with Salmonella',\n",
              "   'recall_initiation_date': '20120927',\n",
              "   'recall_number': 'F-0562-2013',\n",
              "   'recalling_firm': 'Harry and David Operations, Inc.',\n",
              "   'report_date': '20121107',\n",
              "   'state': 'OR',\n",
              "   'status': 'Terminated',\n",
              "   'termination_date': '20130314',\n",
              "   'voluntary_mandated': 'Voluntary: Firm initiated'},\n",
              "  {'address_1': '903 N Broadway St',\n",
              "   'address_2': '',\n",
              "   'center_classification_date': '20160930',\n",
              "   'city': 'Louisburg',\n",
              "   'classification': 'Class I',\n",
              "   'code_info': 'Rabbit Creek Products brand: best by Feb 2017 and March 2017',\n",
              "   'country': 'United States',\n",
              "   'distribution_pattern': \"Distributed nationwide to specialty shops and some products were sold online through the firm's website as well as Amazon.\",\n",
              "   'event_id': '74890',\n",
              "   'initial_firm_notification': 'Two or more of the following: Email, Fax, Letter, Press Release, Telephone, Visit',\n",
              "   'openfda': {},\n",
              "   'postal_code': '66053-3541',\n",
              "   'product_description': 'Caramelized Pecan Brownie Mix, packaged in a plastic bag which is placed in a cardboard box, net wt. 13oz, UPC 010749011830',\n",
              "   'product_quantity': '54 bags',\n",
              "   'product_type': 'Food',\n",
              "   'reason_for_recall': 'Bread, muffin, and brownie mixes may have been manufactured with flour contaminated with E. coli O121',\n",
              "   'recall_initiation_date': '20160809',\n",
              "   'recall_number': 'F-2515-2016',\n",
              "   'recalling_firm': 'Rabbit Creek Products Inc.',\n",
              "   'report_date': '20161012',\n",
              "   'state': 'KS',\n",
              "   'status': 'Terminated',\n",
              "   'termination_date': '20180110',\n",
              "   'voluntary_mandated': 'Voluntary: Firm initiated'},\n",
              "  {'address_1': '13260 Temple Ave',\n",
              "   'address_2': '',\n",
              "   'center_classification_date': '20150330',\n",
              "   'city': 'City Of Industry',\n",
              "   'classification': 'Class II',\n",
              "   'code_info': '8851',\n",
              "   'country': 'United States',\n",
              "   'distribution_pattern': 'Nationwide in US: CA, TN, WA, ID,     and worldwide:  Hong Kong, Vietnam, China, Singapore',\n",
              "   'event_id': '70344',\n",
              "   'initial_firm_notification': 'Letter',\n",
              "   'openfda': {},\n",
              "   'postal_code': '91746-1511',\n",
              "   'product_description': 'Reishi Spore Gen, 90 Capsules, 500mg',\n",
              "   'product_quantity': '5013 units',\n",
              "   'product_type': 'Food',\n",
              "   'reason_for_recall': 'Health One Pharmaceuticals is recalling dietary supplements due to significant violations of the cGMP regulations for dietary supplements.',\n",
              "   'recall_initiation_date': '20150204',\n",
              "   'recall_number': 'F-1676-2015',\n",
              "   'recalling_firm': 'Health One Pharmaceuticals Inc',\n",
              "   'report_date': '20150408',\n",
              "   'state': 'CA',\n",
              "   'status': 'Terminated',\n",
              "   'termination_date': '20150331',\n",
              "   'voluntary_mandated': 'Voluntary: Firm Initiated'},\n",
              "  {'address_1': '1 Highliner Ave',\n",
              "   'address_2': '',\n",
              "   'center_classification_date': '20170815',\n",
              "   'city': 'Portsmouth',\n",
              "   'classification': 'Class II',\n",
              "   'code_info': 'Lot Number: 0047031110; 0046355220; 0047126130; 0047118231; 0047044231; R0047031110; 0047053130; 0047093232; 0047113220; 0046355120; R0047031210; FB0047031110; 0047126230',\n",
              "   'country': 'United States',\n",
              "   'distribution_pattern': 'Nationwide',\n",
              "   'event_id': '77489',\n",
              "   'initial_firm_notification': 'Two or more of the following: Email, Fax, Letter, Press Release, Telephone, Visit',\n",
              "   'openfda': {},\n",
              "   'postal_code': '03801-4146',\n",
              "   'product_description': 'HFS 1/10.35 Oven Ready Krispy Krunchy Breaded Alaska Pollock Fillets 3.6 oz., Item Number: 06456',\n",
              "   'product_quantity': '693,408 cases (total for all products)',\n",
              "   'product_type': 'Food',\n",
              "   'reason_for_recall': 'Product may contain undeclared milk.',\n",
              "   'recall_initiation_date': '20170609',\n",
              "   'recall_number': 'F-2696-2017',\n",
              "   'recalling_firm': 'High Liner Foods Inc.',\n",
              "   'report_date': '20170823',\n",
              "   'state': 'NH',\n",
              "   'status': 'Terminated',\n",
              "   'termination_date': '20171214',\n",
              "   'voluntary_mandated': 'Voluntary: Firm Initiated'}]}"
            ]
          },
          "metadata": {
            "tags": []
          },
          "execution_count": 20
        }
      ]
    },
    {
      "cell_type": "code",
      "metadata": {
        "id": "yn0s2ffu3sk8",
        "colab_type": "code",
        "outputId": "d0a810ca-fa36-4bc0-fd51-f06d9ab5d5f9",
        "colab": {
          "base_uri": "https://localhost:8080/",
          "height": 34
        }
      },
      "source": [
        "import requests\n",
        "url = 'https://api.fda.gov/food/enforcement.json?search=report_date:[20180101+TO+20181231]'\n",
        "query = {'limit':99}\n",
        "response2 = requests.get(url, query)\n",
        "response2.ok"
      ],
      "execution_count": 0,
      "outputs": [
        {
          "output_type": "execute_result",
          "data": {
            "text/plain": [
              "True"
            ]
          },
          "metadata": {
            "tags": []
          },
          "execution_count": 23
        }
      ]
    },
    {
      "cell_type": "code",
      "metadata": {
        "id": "OLti27EsBPF6",
        "colab_type": "code",
        "outputId": "1206e20d-ed64-4350-f0de-ab1f499e49c4",
        "colab": {
          "base_uri": "https://localhost:8080/",
          "height": 54
        }
      },
      "source": [
        "# Make sure we got a valid response\n",
        "if(response2.ok):\n",
        "  # Get the full data from the response\n",
        "  data = response2.json()\n",
        "  # Get just the results\n",
        "  raw_incidents = data['results']\n",
        "  # Iterate the results and only grab the properties that we are interested\n",
        "  incidents = [{\n",
        "      'city':incident['city'],\n",
        "      'state':incident['state'],\n",
        "      'reason':incident['reason_for_recall'],\n",
        "      'date':incident['report_date'],\n",
        "      'company':incident['recalling_firm'],\n",
        "      'product_type':incident['product_type'],\n",
        "      'postal_code':incident['postal_code']\n",
        "  } for incident in raw_incidents]\n",
        "  # print 5 items to see if this worked\n",
        "  print(incidents[:5])"
      ],
      "execution_count": 0,
      "outputs": [
        {
          "output_type": "stream",
          "text": [
            "[{'city': 'Minneapolis', 'state': 'MN', 'reason': 'Shipping container from CA to HI was not held at proper temperature which could cause food items to be contaminated with spoilage organisms or pathogens', 'date': '20180509', 'company': 'Target Corporation', 'product_type': 'Food', 'postal_code': '55402-3601'}, {'city': 'Oakland', 'state': 'CA', 'reason': 'Sales Team employee noticed that some cartons of 48-fl oz. cartons of Dreyers Slow Churned Vanilla Bean Ice Cream contain Butter Pecan ice cream an have a Dreyers Slow Churned Butter Pecan lid.', 'date': '20180404', 'company': 'Nestle Dreyers Ice Cream Company', 'product_type': 'Food', 'postal_code': '94618-1325'}, {'city': 'City of Industry', 'state': 'CA', 'reason': 'Investigation of consumer complaint found that two products had undeclared wheat as flour in an ingredient and was not listed in the ingredient statement.', 'date': '20181219', 'company': 'Gemini Food Corporation Inc', 'product_type': 'Food', 'postal_code': '91789-5213'}, {'city': 'Chambersburg', 'state': 'PA', 'reason': 'A plastic foreign object was inadvertently introduced into the product stream. The firm is recalling product as not all plastic has been accounted.', 'date': '20180124', 'company': 'Ventura Foods, LLC', 'product_type': 'Food', 'postal_code': '17201-4812'}, {'city': 'Baltimore', 'state': 'MD', 'reason': 'Schmidt Baking Company has decided to initiate a recall of various bread products, after being informed by one of their vendors that the ingredient supplied to them by the vendor is under recall.  Potential of foreign material in product.', 'date': '20180307', 'company': 'Schmidt Baking Co., Inc.', 'product_type': 'Food', 'postal_code': '21236-3916'}]\n"
          ],
          "name": "stdout"
        }
      ]
    },
    {
      "cell_type": "code",
      "metadata": {
        "id": "ZaJqd7RMHqLM",
        "colab_type": "code",
        "outputId": "0aab32cd-df36-4a08-8d94-517e239db737",
        "colab": {
          "base_uri": "https://localhost:8080/",
          "height": 34
        }
      },
      "source": [
        "# define a function that will process the data for us\n",
        "def process_data(raw_incidents):\n",
        "  #iterate the results and only grab the properties interested\n",
        "  return [{\n",
        "      'city':incident['city'],\n",
        "      'state':incident['state'],\n",
        "      'reason':incident['reason_for_recall'],\n",
        "      'date':incident['report_date'],\n",
        "      'company':incident['recalling_firm'],\n",
        "      'product_type':incident['product_type'],\n",
        "      'postal_code':incident['postal_code']\n",
        "  } for incident in raw_incidents]\n",
        "\n",
        "  #declare a list to store all results\n",
        "  incidents = []\n",
        "\n",
        "  #declare variables to track skip amount\n",
        "  skip = 0\n",
        "  limit = 99\n",
        "\n",
        "  #make an initial call\n",
        "  url = 'https://api.fda.gov/food/enforcement.json?search=report_date:[20180101+TO+20181231]'\n",
        "  query = {'limit':limit, 'skip':skip}\n",
        "  response = requests.get(url.query)\n",
        "  print('Querying {}'.format(response.url))\n",
        "\n",
        "  # make sure we got a valid response\n",
        "  if(response.ok):\n",
        "    #get the full data from the response\n",
        "    data = response.json()\n",
        "\n",
        "    # get the meta data\n",
        "    meta_data = data['meta']\n",
        "\n",
        "    total = meta_data['results']['total']\n",
        "    print('There is a total of {} results to fetch'.format(total))\n",
        "\n",
        "    #process the results we have so far\n",
        "    incidents = process_data(data['results'])\n",
        "    print('{} results processed so far'.format(len(incidents)))\n",
        "\n",
        "    # increment skip\n",
        "    skip = skip + limit\n",
        "\n",
        "    while skip < total:\n",
        "      qeury = {'limit':limit, 'skip':skip}\n",
        "      response = requests.get(url, query)\n",
        "      print('Querying {}'.format(response.url))\n",
        "      if(response.ok):\n",
        "      # now incidents will be the old values plus the new ones\n",
        "        incidents = incidents + process_data(response.json()['results'])\n",
        "        print('{} results processed so far'.format(len(incidents)))\n",
        "      # increment skip\n",
        "        skip = skip + limit\n",
        "print('{} results returned'.format(len(incidents)))"
      ],
      "execution_count": 0,
      "outputs": [
        {
          "output_type": "stream",
          "text": [
            "99 results returned\n"
          ],
          "name": "stdout"
        }
      ]
    }
  ]
}