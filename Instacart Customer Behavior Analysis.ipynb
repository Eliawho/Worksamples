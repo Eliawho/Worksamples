{
  "nbformat": 4,
  "nbformat_minor": 0,
  "metadata": {
    "colab": {
      "name": "Final Project.ipynb",
      "provenance": [],
      "collapsed_sections": []
    },
    "kernelspec": {
      "name": "python3",
      "display_name": "Python 3"
    }
  },
  "cells": [
    {
      "cell_type": "markdown",
      "metadata": {
        "id": "l_AQ7k7zGkBL",
        "colab_type": "text"
      },
      "source": [
        "# **Instacart Customer Behavior Analysis**\n",
        "\n",
        "---\n",
        "\n",
        "Instacart, the grocery ordering and delivery app Instacart is offering its transactional data on Kaggle wishing to predict their customers' reordering behavior. In this project, I will do EDA of the dataset to dig out a few insights of the customer behavior, and then conduct a t-test to figure out whether the frequency of ordering will affect customers' reorder rate.\n",
        "\n",
        "\n",
        "\n"
      ]
    },
    {
      "cell_type": "markdown",
      "metadata": {
        "id": "K6Jks_R20Q68",
        "colab_type": "text"
      },
      "source": [
        "The dataset is almost 300MB. I will mount the data into Google Drive and load them into the notebook."
      ]
    },
    {
      "cell_type": "code",
      "metadata": {
        "id": "CRNTQuFxkqXb",
        "colab_type": "code",
        "outputId": "75a16bd4-5d2a-4396-a7eb-7f16b558f810",
        "colab": {
          "base_uri": "https://localhost:8080/",
          "height": 124
        }
      },
      "source": [
        "# Mount data from google drive\n",
        "from google.colab import drive \n",
        "drive.mount('/content/gdrive/')"
      ],
      "execution_count": 0,
      "outputs": [
        {
          "output_type": "stream",
          "text": [
            "Go to this URL in a browser: https://accounts.google.com/o/oauth2/auth?client_id=947318989803-6bn6qk8qdgf4n4g3pfee6491hc0brc4i.apps.googleusercontent.com&redirect_uri=urn%3aietf%3awg%3aoauth%3a2.0%3aoob&response_type=code&scope=email%20https%3a%2f%2fwww.googleapis.com%2fauth%2fdocs.test%20https%3a%2f%2fwww.googleapis.com%2fauth%2fdrive%20https%3a%2f%2fwww.googleapis.com%2fauth%2fdrive.photos.readonly%20https%3a%2f%2fwww.googleapis.com%2fauth%2fpeopleapi.readonly\n",
            "\n",
            "Enter your authorization code:\n",
            "··········\n",
            "Mounted at /content/gdrive/\n"
          ],
          "name": "stdout"
        }
      ]
    },
    {
      "cell_type": "markdown",
      "metadata": {
        "id": "0BNu-0dBz_1d",
        "colab_type": "text"
      },
      "source": [
        "And then import every libraries needed here.\n"
      ]
    },
    {
      "cell_type": "code",
      "metadata": {
        "id": "2Y_naa5g5EuK",
        "colab_type": "code",
        "outputId": "4fdebff9-79fd-4533-bf71-536eb17e79b7",
        "colab": {
          "base_uri": "https://localhost:8080/",
          "height": 52
        }
      },
      "source": [
        "\n",
        "import pandas as pd\n",
        "from scipy import stats\n",
        "import numpy as np\n",
        "import seaborn as sns\n",
        "import matplotlib.pyplot as plt\n",
        "import math\n",
        "from sqlalchemy import create_engine\n",
        "import warnings \n",
        "warnings.filterwarnings('ignore')\n"
      ],
      "execution_count": 0,
      "outputs": [
        {
          "output_type": "stream",
          "text": [
            "/usr/local/lib/python3.6/dist-packages/statsmodels/tools/_testing.py:19: FutureWarning: pandas.util.testing is deprecated. Use the functions in the public API at pandas.testing instead.\n",
            "  import pandas.util.testing as tm\n"
          ],
          "name": "stderr"
        }
      ]
    },
    {
      "cell_type": "markdown",
      "metadata": {
        "id": "T8khzD7w0yzD",
        "colab_type": "text"
      },
      "source": [
        "Let's take a look at our datasets. The dataset is a relational set of files containing 3M orders from over 0.2M instacart users.\n",
        "Dataset contains files: (aisles.csv, departments.csv, order_products_*.csv, orders.csv, products.csv)\n"
      ]
    },
    {
      "cell_type": "code",
      "metadata": {
        "id": "mpwCOLxOOg7u",
        "colab_type": "code",
        "colab": {}
      },
      "source": [
        "# Read the csv files and created coresponding dataframes.\n",
        "aisles_df=pd.read_csv('/content/gdrive/My Drive/Python_for_data_analysts/Final Capstone/dataset/aisles.csv')\n",
        "departments_df=pd.read_csv('/content/gdrive/My Drive/Python_for_data_analysts/Final Capstone/dataset/departments.csv')\n",
        "prior_df=pd.read_csv('/content/gdrive/My Drive/Python_for_data_analysts/Final Capstone/dataset/order_products__prior.csv')\n",
        "train_df=pd.read_csv('/content/gdrive/My Drive/Python_for_data_analysts/Final Capstone/dataset/order_products__train.csv')\n",
        "orders_df=pd.read_csv('/content/gdrive/My Drive/Python_for_data_analysts/Final Capstone/dataset/orders.csv')\n",
        "products_df=pd.read_csv('/content/gdrive/My Drive/Python_for_data_analysts/Final Capstone/dataset/products.csv')\n"
      ],
      "execution_count": 0,
      "outputs": []
    },
    {
      "cell_type": "code",
      "metadata": {
        "id": "4wCcKjT9lY5M",
        "colab_type": "code",
        "outputId": "55dacc6d-3cda-40cb-e43f-37364f3a7268",
        "colab": {
          "base_uri": "https://localhost:8080/",
          "height": 348
        }
      },
      "source": [
        "# Let's take a look at the prior, train and orders to see if there are any insights we can dig into.\n",
        "#prior_df.head(10)\n",
        "#train_df.head(10)\n",
        "orders_df.head(10)\n",
        "#prior_df.describe()\n",
        "#train_df.describe()\n",
        "#aisles_df.head()"
      ],
      "execution_count": 0,
      "outputs": [
        {
          "output_type": "execute_result",
          "data": {
            "text/html": [
              "<div>\n",
              "<style scoped>\n",
              "    .dataframe tbody tr th:only-of-type {\n",
              "        vertical-align: middle;\n",
              "    }\n",
              "\n",
              "    .dataframe tbody tr th {\n",
              "        vertical-align: top;\n",
              "    }\n",
              "\n",
              "    .dataframe thead th {\n",
              "        text-align: right;\n",
              "    }\n",
              "</style>\n",
              "<table border=\"1\" class=\"dataframe\">\n",
              "  <thead>\n",
              "    <tr style=\"text-align: right;\">\n",
              "      <th></th>\n",
              "      <th>order_id</th>\n",
              "      <th>user_id</th>\n",
              "      <th>eval_set</th>\n",
              "      <th>order_number</th>\n",
              "      <th>order_dow</th>\n",
              "      <th>order_hour_of_day</th>\n",
              "      <th>days_since_prior_order</th>\n",
              "    </tr>\n",
              "  </thead>\n",
              "  <tbody>\n",
              "    <tr>\n",
              "      <th>0</th>\n",
              "      <td>2539329</td>\n",
              "      <td>1</td>\n",
              "      <td>prior</td>\n",
              "      <td>1</td>\n",
              "      <td>2</td>\n",
              "      <td>8</td>\n",
              "      <td>NaN</td>\n",
              "    </tr>\n",
              "    <tr>\n",
              "      <th>1</th>\n",
              "      <td>2398795</td>\n",
              "      <td>1</td>\n",
              "      <td>prior</td>\n",
              "      <td>2</td>\n",
              "      <td>3</td>\n",
              "      <td>7</td>\n",
              "      <td>15.0</td>\n",
              "    </tr>\n",
              "    <tr>\n",
              "      <th>2</th>\n",
              "      <td>473747</td>\n",
              "      <td>1</td>\n",
              "      <td>prior</td>\n",
              "      <td>3</td>\n",
              "      <td>3</td>\n",
              "      <td>12</td>\n",
              "      <td>21.0</td>\n",
              "    </tr>\n",
              "    <tr>\n",
              "      <th>3</th>\n",
              "      <td>2254736</td>\n",
              "      <td>1</td>\n",
              "      <td>prior</td>\n",
              "      <td>4</td>\n",
              "      <td>4</td>\n",
              "      <td>7</td>\n",
              "      <td>29.0</td>\n",
              "    </tr>\n",
              "    <tr>\n",
              "      <th>4</th>\n",
              "      <td>431534</td>\n",
              "      <td>1</td>\n",
              "      <td>prior</td>\n",
              "      <td>5</td>\n",
              "      <td>4</td>\n",
              "      <td>15</td>\n",
              "      <td>28.0</td>\n",
              "    </tr>\n",
              "    <tr>\n",
              "      <th>5</th>\n",
              "      <td>3367565</td>\n",
              "      <td>1</td>\n",
              "      <td>prior</td>\n",
              "      <td>6</td>\n",
              "      <td>2</td>\n",
              "      <td>7</td>\n",
              "      <td>19.0</td>\n",
              "    </tr>\n",
              "    <tr>\n",
              "      <th>6</th>\n",
              "      <td>550135</td>\n",
              "      <td>1</td>\n",
              "      <td>prior</td>\n",
              "      <td>7</td>\n",
              "      <td>1</td>\n",
              "      <td>9</td>\n",
              "      <td>20.0</td>\n",
              "    </tr>\n",
              "    <tr>\n",
              "      <th>7</th>\n",
              "      <td>3108588</td>\n",
              "      <td>1</td>\n",
              "      <td>prior</td>\n",
              "      <td>8</td>\n",
              "      <td>1</td>\n",
              "      <td>14</td>\n",
              "      <td>14.0</td>\n",
              "    </tr>\n",
              "    <tr>\n",
              "      <th>8</th>\n",
              "      <td>2295261</td>\n",
              "      <td>1</td>\n",
              "      <td>prior</td>\n",
              "      <td>9</td>\n",
              "      <td>1</td>\n",
              "      <td>16</td>\n",
              "      <td>0.0</td>\n",
              "    </tr>\n",
              "    <tr>\n",
              "      <th>9</th>\n",
              "      <td>2550362</td>\n",
              "      <td>1</td>\n",
              "      <td>prior</td>\n",
              "      <td>10</td>\n",
              "      <td>4</td>\n",
              "      <td>8</td>\n",
              "      <td>30.0</td>\n",
              "    </tr>\n",
              "  </tbody>\n",
              "</table>\n",
              "</div>"
            ],
            "text/plain": [
              "   order_id  user_id  ... order_hour_of_day  days_since_prior_order\n",
              "0   2539329        1  ...                 8                     NaN\n",
              "1   2398795        1  ...                 7                    15.0\n",
              "2    473747        1  ...                12                    21.0\n",
              "3   2254736        1  ...                 7                    29.0\n",
              "4    431534        1  ...                15                    28.0\n",
              "5   3367565        1  ...                 7                    19.0\n",
              "6    550135        1  ...                 9                    20.0\n",
              "7   3108588        1  ...                14                    14.0\n",
              "8   2295261        1  ...                16                     0.0\n",
              "9   2550362        1  ...                 8                    30.0\n",
              "\n",
              "[10 rows x 7 columns]"
            ]
          },
          "metadata": {
            "tags": []
          },
          "execution_count": 5
        }
      ]
    },
    {
      "cell_type": "markdown",
      "metadata": {
        "id": "UGzxW4fz1lHV",
        "colab_type": "text"
      },
      "source": [
        "Use merge method to connect every table of the datasets. I choose order_products_train table as the main table connecting the other tables."
      ]
    },
    {
      "cell_type": "code",
      "metadata": {
        "id": "co8Oe-lr5Jb6",
        "colab_type": "code",
        "colab": {}
      },
      "source": [
        "# merge/join prior, orders and other dataframes.\n",
        "data=train_df.merge(orders_df, how= 'inner').merge(products_df, how='inner').merge(departments_df,how='inner').merge(aisles_df, how='inner')"
      ],
      "execution_count": 0,
      "outputs": []
    },
    {
      "cell_type": "code",
      "metadata": {
        "id": "O2m-4vD1FzPt",
        "colab_type": "code",
        "outputId": "52bbe50d-3939-4254-e1d6-db74b4aa0d4c",
        "colab": {
          "base_uri": "https://localhost:8080/",
          "height": 348
        }
      },
      "source": [
        "# Let's take a look at our merged dataframe.  \n",
        "data.head(10)"
      ],
      "execution_count": 0,
      "outputs": [
        {
          "output_type": "execute_result",
          "data": {
            "text/html": [
              "<div>\n",
              "<style scoped>\n",
              "    .dataframe tbody tr th:only-of-type {\n",
              "        vertical-align: middle;\n",
              "    }\n",
              "\n",
              "    .dataframe tbody tr th {\n",
              "        vertical-align: top;\n",
              "    }\n",
              "\n",
              "    .dataframe thead th {\n",
              "        text-align: right;\n",
              "    }\n",
              "</style>\n",
              "<table border=\"1\" class=\"dataframe\">\n",
              "  <thead>\n",
              "    <tr style=\"text-align: right;\">\n",
              "      <th></th>\n",
              "      <th>order_id</th>\n",
              "      <th>product_id</th>\n",
              "      <th>add_to_cart_order</th>\n",
              "      <th>reordered</th>\n",
              "      <th>user_id</th>\n",
              "      <th>eval_set</th>\n",
              "      <th>order_number</th>\n",
              "      <th>order_dow</th>\n",
              "      <th>order_hour_of_day</th>\n",
              "      <th>days_since_prior_order</th>\n",
              "      <th>product_name</th>\n",
              "      <th>aisle_id</th>\n",
              "      <th>department_id</th>\n",
              "      <th>department</th>\n",
              "      <th>aisle</th>\n",
              "    </tr>\n",
              "  </thead>\n",
              "  <tbody>\n",
              "    <tr>\n",
              "      <th>0</th>\n",
              "      <td>1</td>\n",
              "      <td>49302</td>\n",
              "      <td>1</td>\n",
              "      <td>1</td>\n",
              "      <td>112108</td>\n",
              "      <td>train</td>\n",
              "      <td>4</td>\n",
              "      <td>4</td>\n",
              "      <td>10</td>\n",
              "      <td>9.0</td>\n",
              "      <td>Bulgarian Yogurt</td>\n",
              "      <td>120</td>\n",
              "      <td>16</td>\n",
              "      <td>dairy eggs</td>\n",
              "      <td>yogurt</td>\n",
              "    </tr>\n",
              "    <tr>\n",
              "      <th>1</th>\n",
              "      <td>816049</td>\n",
              "      <td>49302</td>\n",
              "      <td>7</td>\n",
              "      <td>1</td>\n",
              "      <td>47901</td>\n",
              "      <td>train</td>\n",
              "      <td>14</td>\n",
              "      <td>4</td>\n",
              "      <td>6</td>\n",
              "      <td>16.0</td>\n",
              "      <td>Bulgarian Yogurt</td>\n",
              "      <td>120</td>\n",
              "      <td>16</td>\n",
              "      <td>dairy eggs</td>\n",
              "      <td>yogurt</td>\n",
              "    </tr>\n",
              "    <tr>\n",
              "      <th>2</th>\n",
              "      <td>1242203</td>\n",
              "      <td>49302</td>\n",
              "      <td>1</td>\n",
              "      <td>1</td>\n",
              "      <td>2993</td>\n",
              "      <td>train</td>\n",
              "      <td>15</td>\n",
              "      <td>0</td>\n",
              "      <td>7</td>\n",
              "      <td>7.0</td>\n",
              "      <td>Bulgarian Yogurt</td>\n",
              "      <td>120</td>\n",
              "      <td>16</td>\n",
              "      <td>dairy eggs</td>\n",
              "      <td>yogurt</td>\n",
              "    </tr>\n",
              "    <tr>\n",
              "      <th>3</th>\n",
              "      <td>1383349</td>\n",
              "      <td>49302</td>\n",
              "      <td>11</td>\n",
              "      <td>1</td>\n",
              "      <td>41425</td>\n",
              "      <td>train</td>\n",
              "      <td>4</td>\n",
              "      <td>3</td>\n",
              "      <td>8</td>\n",
              "      <td>14.0</td>\n",
              "      <td>Bulgarian Yogurt</td>\n",
              "      <td>120</td>\n",
              "      <td>16</td>\n",
              "      <td>dairy eggs</td>\n",
              "      <td>yogurt</td>\n",
              "    </tr>\n",
              "    <tr>\n",
              "      <th>4</th>\n",
              "      <td>1787378</td>\n",
              "      <td>49302</td>\n",
              "      <td>8</td>\n",
              "      <td>0</td>\n",
              "      <td>187205</td>\n",
              "      <td>train</td>\n",
              "      <td>5</td>\n",
              "      <td>4</td>\n",
              "      <td>14</td>\n",
              "      <td>30.0</td>\n",
              "      <td>Bulgarian Yogurt</td>\n",
              "      <td>120</td>\n",
              "      <td>16</td>\n",
              "      <td>dairy eggs</td>\n",
              "      <td>yogurt</td>\n",
              "    </tr>\n",
              "    <tr>\n",
              "      <th>5</th>\n",
              "      <td>2445303</td>\n",
              "      <td>49302</td>\n",
              "      <td>2</td>\n",
              "      <td>1</td>\n",
              "      <td>199120</td>\n",
              "      <td>train</td>\n",
              "      <td>49</td>\n",
              "      <td>3</td>\n",
              "      <td>20</td>\n",
              "      <td>7.0</td>\n",
              "      <td>Bulgarian Yogurt</td>\n",
              "      <td>120</td>\n",
              "      <td>16</td>\n",
              "      <td>dairy eggs</td>\n",
              "      <td>yogurt</td>\n",
              "    </tr>\n",
              "    <tr>\n",
              "      <th>6</th>\n",
              "      <td>2853065</td>\n",
              "      <td>49302</td>\n",
              "      <td>12</td>\n",
              "      <td>1</td>\n",
              "      <td>145852</td>\n",
              "      <td>train</td>\n",
              "      <td>7</td>\n",
              "      <td>1</td>\n",
              "      <td>19</td>\n",
              "      <td>15.0</td>\n",
              "      <td>Bulgarian Yogurt</td>\n",
              "      <td>120</td>\n",
              "      <td>16</td>\n",
              "      <td>dairy eggs</td>\n",
              "      <td>yogurt</td>\n",
              "    </tr>\n",
              "    <tr>\n",
              "      <th>7</th>\n",
              "      <td>3231517</td>\n",
              "      <td>49302</td>\n",
              "      <td>6</td>\n",
              "      <td>1</td>\n",
              "      <td>63189</td>\n",
              "      <td>train</td>\n",
              "      <td>42</td>\n",
              "      <td>2</td>\n",
              "      <td>13</td>\n",
              "      <td>7.0</td>\n",
              "      <td>Bulgarian Yogurt</td>\n",
              "      <td>120</td>\n",
              "      <td>16</td>\n",
              "      <td>dairy eggs</td>\n",
              "      <td>yogurt</td>\n",
              "    </tr>\n",
              "    <tr>\n",
              "      <th>8</th>\n",
              "      <td>98</td>\n",
              "      <td>43654</td>\n",
              "      <td>3</td>\n",
              "      <td>1</td>\n",
              "      <td>56463</td>\n",
              "      <td>train</td>\n",
              "      <td>41</td>\n",
              "      <td>3</td>\n",
              "      <td>8</td>\n",
              "      <td>14.0</td>\n",
              "      <td>Whole Milk Greek Blended Vanilla Bean Yogurt</td>\n",
              "      <td>120</td>\n",
              "      <td>16</td>\n",
              "      <td>dairy eggs</td>\n",
              "      <td>yogurt</td>\n",
              "    </tr>\n",
              "    <tr>\n",
              "      <th>9</th>\n",
              "      <td>13746</td>\n",
              "      <td>43654</td>\n",
              "      <td>9</td>\n",
              "      <td>0</td>\n",
              "      <td>158341</td>\n",
              "      <td>train</td>\n",
              "      <td>41</td>\n",
              "      <td>1</td>\n",
              "      <td>17</td>\n",
              "      <td>8.0</td>\n",
              "      <td>Whole Milk Greek Blended Vanilla Bean Yogurt</td>\n",
              "      <td>120</td>\n",
              "      <td>16</td>\n",
              "      <td>dairy eggs</td>\n",
              "      <td>yogurt</td>\n",
              "    </tr>\n",
              "  </tbody>\n",
              "</table>\n",
              "</div>"
            ],
            "text/plain": [
              "   order_id  product_id  add_to_cart_order  ...  department_id  department   aisle\n",
              "0         1       49302                  1  ...             16  dairy eggs  yogurt\n",
              "1    816049       49302                  7  ...             16  dairy eggs  yogurt\n",
              "2   1242203       49302                  1  ...             16  dairy eggs  yogurt\n",
              "3   1383349       49302                 11  ...             16  dairy eggs  yogurt\n",
              "4   1787378       49302                  8  ...             16  dairy eggs  yogurt\n",
              "5   2445303       49302                  2  ...             16  dairy eggs  yogurt\n",
              "6   2853065       49302                 12  ...             16  dairy eggs  yogurt\n",
              "7   3231517       49302                  6  ...             16  dairy eggs  yogurt\n",
              "8        98       43654                  3  ...             16  dairy eggs  yogurt\n",
              "9     13746       43654                  9  ...             16  dairy eggs  yogurt\n",
              "\n",
              "[10 rows x 15 columns]"
            ]
          },
          "metadata": {
            "tags": []
          },
          "execution_count": 14
        }
      ]
    },
    {
      "cell_type": "markdown",
      "metadata": {
        "id": "I9y_tVVo4Onm",
        "colab_type": "text"
      },
      "source": [
        "The data contains 1.38 million entries recording the products in every order. It also contains information about users, order status, aisles and departments. "
      ]
    },
    {
      "cell_type": "code",
      "metadata": {
        "id": "1x5mWv8WGfsL",
        "colab_type": "code",
        "outputId": "f5844e24-520a-46c8-9b67-0b17ba3f221c",
        "colab": {
          "base_uri": "https://localhost:8080/",
          "height": 35
        }
      },
      "source": [
        "data.shap"
      ],
      "execution_count": 0,
      "outputs": [
        {
          "output_type": "execute_result",
          "data": {
            "text/plain": [
              "(1384617, 15)"
            ]
          },
          "metadata": {
            "tags": []
          },
          "execution_count": 16
        }
      ]
    },
    {
      "cell_type": "markdown",
      "metadata": {
        "id": "4kgb_5K-In6q",
        "colab_type": "text"
      },
      "source": [
        "# Exploratory Analysis and Data Visualization\n",
        "\n"
      ]
    },
    {
      "cell_type": "markdown",
      "metadata": {
        "id": "hsTSvk7kHLIU",
        "colab_type": "text"
      },
      "source": [
        "\n",
        "\n",
        "*   How many products do people purchase per order?\n",
        "\n"
      ]
    },
    {
      "cell_type": "code",
      "metadata": {
        "id": "s3YFPWYPJ_qD",
        "colab_type": "code",
        "outputId": "25178135-e1d6-49a4-b175-cc94c677086e",
        "colab": {
          "base_uri": "https://localhost:8080/",
          "height": 35
        }
      },
      "source": [
        "# What is the average number of products in each order?\n",
        "order_max = data.pivot_table(index='order_id', values ='add_to_cart_order', aggfunc = 'max')\n",
        "order_max.head()\n",
        "order_max['add_to_cart_order'].mean()"
      ],
      "execution_count": 0,
      "outputs": [
        {
          "output_type": "execute_result",
          "data": {
            "text/plain": [
              "10.552759338155157"
            ]
          },
          "metadata": {
            "tags": []
          },
          "execution_count": 8
        }
      ]
    },
    {
      "cell_type": "markdown",
      "metadata": {
        "id": "2ClJp6uC-sXO",
        "colab_type": "text"
      },
      "source": [
        "\n",
        "\n",
        "*   When do people order?\n",
        "\n",
        "\n"
      ]
    },
    {
      "cell_type": "code",
      "metadata": {
        "id": "8JkwGdzIZPgO",
        "colab_type": "code",
        "outputId": "26d66afb-e02f-409e-a296-27de1a0995e4",
        "colab": {
          "base_uri": "https://localhost:8080/",
          "height": 265
        }
      },
      "source": [
        "# When do people order at the hour of a day, and the day of a week?\n",
        "data_day = data[['order_id', 'order_hour_of_day']].groupby(['order_hour_of_day']).agg(['count'])\n",
        "data_day1=data_day.reset_index()\n",
        "ax_day = sns.lineplot(data=data_day1, palette='husl' )\n",
        "#ax_day = sns.countplot(x='order_hour_of_day', data = data, palette='husl')\n",
        "plt.ylabel('orders')\n"
      ],
      "execution_count": 0,
      "outputs": [
        {
          "output_type": "display_data",
          "data": {
            "image/png": "[encoded data removed]",
            "text/plain": [
              "<Figure size 432x288 with 1 Axes>"
            ]
          },
          "metadata": {
            "tags": [],
            "needs_background": "light"
          }
        }
      ]
    },
    {
      "cell_type": "code",
      "metadata": {
        "id": "JJRj5kBoJJRa",
        "colab_type": "code",
        "outputId": "662ac62a-c3b3-4675-979e-329b886faeae",
        "colab": {
          "base_uri": "https://localhost:8080/",
          "height": 420
        }
      },
      "source": [
        "print(data['order_dow'].value_counts())\n",
        "#ax_week = sns.countplot(x='order_dow',data=data, palette = 'CMRmap_r')\n",
        "#data_dow = data.groupby('order_dow').count()\n",
        "#data_dow.info()\n",
        "#ax_week=sns.lineplot(x='order_dow', y='order_id', data=data_dow)\n",
        "\n",
        "data_dow = data[['order_id','order_dow']].groupby(['order_dow']).agg(['count'])\n",
        "data_dow1 = data_dow.reset_index()\n",
        "data_dow1.head()\n",
        "ax_dow = sns.lineplot(data=data_dow1,  palette = 'husl')\n",
        "plt.ylabel('orders')"
      ],
      "execution_count": 0,
      "outputs": [
        {
          "output_type": "stream",
          "text": [
            "0    324026\n",
            "6    207279\n",
            "1    205978\n",
            "5    176910\n",
            "2    160562\n",
            "4    155481\n",
            "3    154381\n",
            "Name: order_dow, dtype: int64\n"
          ],
          "name": "stdout"
        },
        {
          "output_type": "execute_result",
          "data": {
            "text/plain": [
              "Text(0, 0.5, 'orders')"
            ]
          },
          "metadata": {
            "tags": []
          },
          "execution_count": 12
        },
        {
          "output_type": "display_data",
          "data": {
            "image/png": "[encoded data removed]",
            "text/plain": [
              "<Figure size 432x288 with 1 Axes>"
            ]
          },
          "metadata": {
            "tags": [],
            "needs_background": "light"
          }
        }
      ]
    },
    {
      "cell_type": "markdown",
      "metadata": {
        "id": "vBGjFzEUsTg5",
        "colab_type": "text"
      },
      "source": [
        "9am to 5pm and Sundays are clearly peaks of ordering time. People tend to make orders during weekends."
      ]
    },
    {
      "cell_type": "markdown",
      "metadata": {
        "id": "9BRYzCHV-PSf",
        "colab_type": "text"
      },
      "source": [
        "\n",
        "\n",
        "*   What do people order?\n",
        "\n",
        "\n"
      ]
    },
    {
      "cell_type": "code",
      "metadata": {
        "id": "LaO619rjLRMs",
        "colab_type": "code",
        "outputId": "b91eb65a-6523-4e67-957a-aaaf3395c27a",
        "colab": {
          "base_uri": "https://localhost:8080/",
          "height": 546
        }
      },
      "source": [
        "# what's the most popular items?\n",
        "popular_products = data['product_name'].value_counts()\n",
        "\n",
        "# create a bar chart of the popular products\n",
        "ax = sns.countplot(x=data['product_name'], data=data, order=data.product_name.value_counts().iloc[:9].index, palette='muted')\n",
        "ax.set_xticklabels(ax.get_xticklabels(), rotation = 90)\n"
      ],
      "execution_count": 0,
      "outputs": [
        {
          "output_type": "execute_result",
          "data": {
            "text/plain": [
              "[Text(0, 0, 'Banana'),\n",
              " Text(0, 0, 'Bag of Organic Bananas'),\n",
              " Text(0, 0, 'Organic Strawberries'),\n",
              " Text(0, 0, 'Organic Baby Spinach'),\n",
              " Text(0, 0, 'Large Lemon'),\n",
              " Text(0, 0, 'Organic Avocado'),\n",
              " Text(0, 0, 'Organic Hass Avocado'),\n",
              " Text(0, 0, 'Strawberries'),\n",
              " Text(0, 0, 'Limes')]"
            ]
          },
          "metadata": {
            "tags": []
          },
          "execution_count": 10
        },
        {
          "output_type": "display_data",
          "data": {
            "image/png": "[encoded data removed]",
            "text/plain": [
              "<Figure size 432x288 with 1 Axes>"
            ]
          },
          "metadata": {
            "tags": [],
            "needs_background": "light"
          }
        }
      ]
    },
    {
      "cell_type": "markdown",
      "metadata": {
        "id": "pRFAyqqgHxrD",
        "colab_type": "text"
      },
      "source": [
        "In the most popular ordered items chart, fruit is a clear winner. People tend to order organic fruits as half of the top orders are organic fruits. Banana is the more frequently ordered product."
      ]
    },
    {
      "cell_type": "markdown",
      "metadata": {
        "id": "cwmF9YduPq75",
        "colab_type": "text"
      },
      "source": [
        "*   When do people order again?"
      ]
    },
    {
      "cell_type": "code",
      "metadata": {
        "id": "rMpT5UFbAOmA",
        "colab_type": "code",
        "outputId": "4104f1f0-f2e3-4069-f295-4ed517757989",
        "colab": {
          "base_uri": "https://localhost:8080/",
          "height": 297
        }
      },
      "source": [
        "# - how long do people make an order after last orders?\n",
        "ax_frequency = sns.distplot(data['days_since_prior_order'], bins=20, kde=False)\n",
        "plt.ylabel('orders')"
      ],
      "execution_count": 0,
      "outputs": [
        {
          "output_type": "execute_result",
          "data": {
            "text/plain": [
              "Text(0, 0.5, 'orders')"
            ]
          },
          "metadata": {
            "tags": []
          },
          "execution_count": 11
        },
        {
          "output_type": "display_data",
          "data": {
            "image/png": "[encoded data removed]",
            "text/plain": [
              "<Figure size 432x288 with 1 Axes>"
            ]
          },
          "metadata": {
            "tags": [],
            "needs_background": "light"
          }
        }
      ]
    },
    {
      "cell_type": "markdown",
      "metadata": {
        "id": "6XPLN24HC2qY",
        "colab_type": "text"
      },
      "source": [
        "Looks like except for those who randomly pickup the app after one month, the most common order frequency is after one week."
      ]
    },
    {
      "cell_type": "markdown",
      "metadata": {
        "id": "f7ymmXFeQS_c",
        "colab_type": "text"
      },
      "source": [
        "*   How often do people repeat their previous orders?\n",
        "\n"
      ]
    },
    {
      "cell_type": "code",
      "metadata": {
        "id": "Ato-OUw0cqX_",
        "colab_type": "code",
        "outputId": "738c1dca-3e95-4bf7-ab44-19105e3ea6d2",
        "colab": {
          "base_uri": "https://localhost:8080/",
          "height": 104
        }
      },
      "source": [
        "# find out the reorder rate of purchase.\n",
        "reorder = data.loc[(data['reordered']==1).values]\n",
        "no_reorder = data.loc[(data['reordered']==0).values]\n",
        "reorder_counts = reorder['reordered'].value_counts().tolist()[0]\n",
        "noreorder_counts = no_reorder['reordered'].value_counts().tolist()[0]\n",
        "print(noreorder_counts)\n",
        "ratio = reorder_counts / (reorder_counts + noreorder_counts)\n",
        "print(ratio)\n",
        "\n",
        "data.groupby('reordered').size()\n",
        "data['reordered'].value_counts(normalize = True)\n"
      ],
      "execution_count": 0,
      "outputs": [
        {
          "output_type": "stream",
          "text": [
            "555793\n",
            "0.5985944127509629\n"
          ],
          "name": "stdout"
        },
        {
          "output_type": "execute_result",
          "data": {
            "text/plain": [
              "1    0.598594\n",
              "0    0.401406\n",
              "Name: reordered, dtype: float64"
            ]
          },
          "metadata": {
            "tags": []
          },
          "execution_count": 12
        }
      ]
    },
    {
      "cell_type": "markdown",
      "metadata": {
        "id": "22GO6TWRQwsy",
        "colab_type": "text"
      },
      "source": [
        "The average reorder rate is aound 60%."
      ]
    },
    {
      "cell_type": "markdown",
      "metadata": {
        "id": "jCycTCaZQ6el",
        "colab_type": "text"
      },
      "source": [
        "\n",
        "\n",
        "*   Customer behavior insights: what are the first items people put into their cart? And what are the last ones?\n",
        "\n"
      ]
    },
    {
      "cell_type": "code",
      "metadata": {
        "id": "LEwm-uA2iDE-",
        "colab_type": "code",
        "outputId": "a3043201-8d36-4535-d5b8-74d67cc0055a",
        "colab": {
          "base_uri": "https://localhost:8080/",
          "height": 546
        }
      },
      "source": [
        "# What are the first items people put into their cart?\n",
        "first_items = data.loc[data['add_to_cart_order'] ==1]\n",
        "first_items.head()\n",
        "ax = sns.countplot(x='product_name', data=first_items, order=first_items.product_name.value_counts().iloc[:9].index, palette='muted')\n",
        "ax.set_xticklabels(ax.get_xticklabels(), rotation = 90)\n"
      ],
      "execution_count": 0,
      "outputs": [
        {
          "output_type": "execute_result",
          "data": {
            "text/plain": [
              "[Text(0, 0, 'Banana'),\n",
              " Text(0, 0, 'Bag of Organic Bananas'),\n",
              " Text(0, 0, 'Organic Whole Milk'),\n",
              " Text(0, 0, 'Organic Avocado'),\n",
              " Text(0, 0, 'Organic Strawberries'),\n",
              " Text(0, 0, 'Organic Baby Spinach'),\n",
              " Text(0, 0, 'Organic Hass Avocado'),\n",
              " Text(0, 0, 'Spring Water'),\n",
              " Text(0, 0, 'Strawberries')]"
            ]
          },
          "metadata": {
            "tags": []
          },
          "execution_count": 12
        },
        {
          "output_type": "display_data",
          "data": {
            "image/png": "[encoded data removed]",
            "text/plain": [
              "<Figure size 432x288 with 1 Axes>"
            ]
          },
          "metadata": {
            "tags": [],
            "needs_background": "light"
          }
        }
      ]
    },
    {
      "cell_type": "code",
      "metadata": {
        "id": "W2ytCblwjZ2e",
        "colab_type": "code",
        "outputId": "8acb1105-0c7d-4db3-90cb-46c67ef77336",
        "colab": {
          "base_uri": "https://localhost:8080/",
          "height": 546
        }
      },
      "source": [
        "# What are the last items people put into their cart? \n",
        "last_item_df = pd.DataFrame(data, columns = ['order_id', 'product_name', 'add_to_cart_order'])\n",
        "last_item_df.groupby('order_id').apply(lambda g:g[g['add_to_cart_order'] == g['add_to_cart_order'].max()])\n",
        "\n",
        "ax2 = sns.countplot(x='product_name', data=last_item_df, order=last_item_df.product_name.value_counts().iloc[:9].index, palette='muted')\n",
        "ax2.set_xticklabels(ax2.get_xticklabels(), rotation = 90)"
      ],
      "execution_count": 0,
      "outputs": [
        {
          "output_type": "execute_result",
          "data": {
            "text/plain": [
              "[Text(0, 0, 'Banana'),\n",
              " Text(0, 0, 'Bag of Organic Bananas'),\n",
              " Text(0, 0, 'Organic Strawberries'),\n",
              " Text(0, 0, 'Organic Baby Spinach'),\n",
              " Text(0, 0, 'Large Lemon'),\n",
              " Text(0, 0, 'Organic Avocado'),\n",
              " Text(0, 0, 'Organic Hass Avocado'),\n",
              " Text(0, 0, 'Strawberries'),\n",
              " Text(0, 0, 'Limes')]"
            ]
          },
          "metadata": {
            "tags": []
          },
          "execution_count": 11
        },
        {
          "output_type": "display_data",
          "data": {
            "image/png": "[encoded data removed]",
            "text/plain": [
              "<Figure size 432x288 with 1 Axes>"
            ]
          },
          "metadata": {
            "tags": [],
            "needs_background": "light"
          }
        }
      ]
    },
    {
      "cell_type": "markdown",
      "metadata": {
        "id": "ZmOaMXnI_euF",
        "colab_type": "text"
      },
      "source": [
        "Although the fruits, especially bananas,  are still popular when people open the app and choose products, organic whole milk and spring water are also first choices. The last calls are similar with the most popular ordered items though.\n"
      ]
    },
    {
      "cell_type": "markdown",
      "metadata": {
        "id": "JuGHpQk7PDeC",
        "colab_type": "text"
      },
      "source": [
        "In conclusion, the order behavior of Instacart users are the followings:\n",
        "People tend to use the app around 9am to 5pm, they make orders mostly on Sundays, and they tend to use the app again after one week, or one month. Each user will make around 10.5 orders, 60% are reordered items, and the most popular products are fruits -  bananas are a clearly winner. \n",
        "\n"
      ]
    },
    {
      "cell_type": "markdown",
      "metadata": {
        "id": "oeX6m-PpTa2K",
        "colab_type": "text"
      },
      "source": [
        "# Reorder rate and hypothesis\n",
        "Reorder rate is an important index that can be used in predicting user behaviors and making product recommendations. Here, I want to conduct the analysis on our most loyal customers -their reorder rate higher than 86.7%. Then, I will test the hypothesis of whether the frequency of ordering have an impact on whether a user will reorder products.\n"
      ]
    },
    {
      "cell_type": "markdown",
      "metadata": {
        "id": "YyDOxkWp_PoZ",
        "colab_type": "text"
      },
      "source": [
        "To analyze the reorder rate correlated customer behavior, I want to make a pivot table out of our orginal data to focus on data on the user level, and add on the calculated reorder rate column."
      ]
    },
    {
      "cell_type": "code",
      "metadata": {
        "id": "oJidq0wuV6ff",
        "colab_type": "code",
        "outputId": "9554b45b-a99a-4f00-89d7-b1991cf102c9",
        "colab": {
          "base_uri": "https://localhost:8080/",
          "height": 207
        }
      },
      "source": [
        "# calculate the reorder rate per user using pivot table\n",
        "data_users = data.pivot_table(index='user_id', values = ['reordered', 'order_id', 'days_since_prior_order'], aggfunc={'reordered':'sum','order_id':'count', 'days_since_prior_order':'mean'})\n",
        "data_users['reorder_rate'] = data_users['reordered']/data_users['order_id']\n",
        "data_users.reset_index()\n",
        "data_users.info()\n"
      ],
      "execution_count": 0,
      "outputs": [
        {
          "output_type": "stream",
          "text": [
            "<class 'pandas.core.frame.DataFrame'>\n",
            "Int64Index: 131209 entries, 1 to 206209\n",
            "Data columns (total 4 columns):\n",
            " #   Column                  Non-Null Count   Dtype  \n",
            "---  ------                  --------------   -----  \n",
            " 0   days_since_prior_order  131209 non-null  float64\n",
            " 1   order_id                131209 non-null  int64  \n",
            " 2   reordered               131209 non-null  int64  \n",
            " 3   reorder_rate            131209 non-null  float64\n",
            "dtypes: float64(2), int64(2)\n",
            "memory usage: 5.0 MB\n"
          ],
          "name": "stdout"
        }
      ]
    },
    {
      "cell_type": "markdown",
      "metadata": {
        "id": "NmSsiTcrAtBJ",
        "colab_type": "text"
      },
      "source": [
        "Let's take a look at the distribution of reorder rate by using boxplot to show the mean, 25% and 75% level of reorder rate.\n"
      ]
    },
    {
      "cell_type": "code",
      "metadata": {
        "id": "QaI67YYlXm9y",
        "colab_type": "code",
        "outputId": "33cd22f2-57d3-4487-8486-e7a3bf2fb6f1",
        "colab": {
          "base_uri": "https://localhost:8080/",
          "height": 407
        }
      },
      "source": [
        "# let's take a look at the distribution of reorder rate by using boxplot \n",
        "sns.boxplot(y = 'reorder_rate', data = data_users)\n",
        "data_users['reorder_rate'].describe()\n"
      ],
      "execution_count": 0,
      "outputs": [
        {
          "output_type": "execute_result",
          "data": {
            "text/plain": [
              "count    131209.000000\n",
              "mean          0.602472\n",
              "std           0.306763\n",
              "min           0.000000\n",
              "25%           0.375000\n",
              "50%           0.631579\n",
              "75%           0.866667\n",
              "max           1.000000\n",
              "Name: reorder_rate, dtype: float64"
            ]
          },
          "metadata": {
            "tags": []
          },
          "execution_count": 17
        },
        {
          "output_type": "display_data",
          "data": {
            "image/png": "[encoded data removed]",
            "text/plain": [
              "<Figure size 432x288 with 1 Axes>"
            ]
          },
          "metadata": {
            "tags": [],
            "needs_background": "light"
          }
        }
      ]
    },
    {
      "cell_type": "markdown",
      "metadata": {
        "id": "Y_Jx4GynA8o6",
        "colab_type": "text"
      },
      "source": [
        "Since the top 25% users have a reorder rate of 86.7%, we will consider these users as the top 'reorder users'. We want to find some behavior pattern of these particular persona."
      ]
    },
    {
      "cell_type": "code",
      "metadata": {
        "id": "rlG5lhEjXkDP",
        "colab_type": "code",
        "outputId": "90aa8b0b-6602-4b09-a9b8-0b70603dd3c6",
        "colab": {
          "base_uri": "https://localhost:8080/",
          "height": 276
        }
      },
      "source": [
        "data_users.isnull().sum()\n",
        "top_users = data_users.loc[data_users['reorder_rate'] > 0.867]\n",
        "print(top_users)"
      ],
      "execution_count": 0,
      "outputs": [
        {
          "output_type": "stream",
          "text": [
            "         days_since_prior_order  order_id  reordered  reorder_rate\n",
            "user_id                                                           \n",
            "1                          14.0        11         10      0.909091\n",
            "7                           6.0         9          8      0.888889\n",
            "9                          30.0        22         22      1.000000\n",
            "24                          0.0         1          1      1.000000\n",
            "29                         13.0        17         17      1.000000\n",
            "...                         ...       ...        ...           ...\n",
            "206154                     15.0        10          9      0.900000\n",
            "206159                      9.0         1          1      1.000000\n",
            "206162                     14.0         8          7      0.875000\n",
            "206181                     30.0         9          9      1.000000\n",
            "206203                     30.0        13         12      0.923077\n",
            "\n",
            "[32727 rows x 4 columns]\n"
          ],
          "name": "stdout"
        }
      ]
    },
    {
      "cell_type": "markdown",
      "metadata": {
        "id": "WlChJnWGM6OD",
        "colab_type": "text"
      },
      "source": [
        "we have 32727 users that have a reorder rate larger than 86.7%. "
      ]
    },
    {
      "cell_type": "markdown",
      "metadata": {
        "id": "rvxMlTeEBIky",
        "colab_type": "text"
      },
      "source": [
        "Let's create a distplot to see the order frequency of our top reorder users."
      ]
    },
    {
      "cell_type": "code",
      "metadata": {
        "id": "I2z7I9UhNVZA",
        "colab_type": "code",
        "outputId": "3986ea1c-df4f-439c-fa8f-9b6a24b36e6b",
        "colab": {
          "base_uri": "https://localhost:8080/",
          "height": 297
        }
      },
      "source": [
        "ax = sns.distplot(top_users['days_since_prior_order'], kde=False)\n",
        "plt.ylabel('users')"
      ],
      "execution_count": 0,
      "outputs": [
        {
          "output_type": "execute_result",
          "data": {
            "text/plain": [
              "Text(0, 0.5, 'users')"
            ]
          },
          "metadata": {
            "tags": []
          },
          "execution_count": 20
        },
        {
          "output_type": "display_data",
          "data": {
            "image/png": "[encoded data removed]",
            "text/plain": [
              "<Figure size 432x288 with 1 Axes>"
            ]
          },
          "metadata": {
            "tags": [],
            "needs_background": "light"
          }
        }
      ]
    },
    {
      "cell_type": "markdown",
      "metadata": {
        "id": "BkHEtue5Bkr5",
        "colab_type": "text"
      },
      "source": [
        "Comparing with our total user pool, the top reorder users have a much clearer purchase pattern - 7 days order frenquency and 30 days order frequency have accounted for the vast majority of top users."
      ]
    },
    {
      "cell_type": "markdown",
      "metadata": {
        "id": "gqdyrWclSkBK",
        "colab_type": "text"
      },
      "source": [
        "**Hypothesis testing**\n",
        "\n",
        "---\n",
        "\n",
        "\n",
        "\n",
        "To further understand the relationship between order frequency and reorder rate among our best reorder users, we want to test if there is a significant difference between the top users' reorder rate and their order frequency - 7 days (weekly) and 30 days (monthly).\n",
        "\n",
        "> Null: There is no difference of reorder rate between top users with a shopping frequency of one week and top users with a shopping frequency with one month.\n",
        "\n",
        "\n",
        "*   Ho: uw - um = 0\n",
        "*   Ha: uw - um <>= 0\n"
      ]
    },
    {
      "cell_type": "code",
      "metadata": {
        "id": "vElIeKD-hRGq",
        "colab_type": "code",
        "outputId": "767792fd-1bf7-4d43-ef1f-a4db01308d77",
        "colab": {
          "base_uri": "https://localhost:8080/",
          "height": 397
        }
      },
      "source": [
        "weekly_user = top_users.iloc[(top_users['days_since_prior_order'] == 7).values]\n",
        "monthly_user = top_users.iloc[(top_users['days_since_prior_order']== 30).values]\n",
        "weekly_user.info()\n",
        "monthly_user.info()"
      ],
      "execution_count": 0,
      "outputs": [
        {
          "output_type": "stream",
          "text": [
            "<class 'pandas.core.frame.DataFrame'>\n",
            "Int64Index: 3090 entries, 50 to 206082\n",
            "Data columns (total 4 columns):\n",
            " #   Column                  Non-Null Count  Dtype  \n",
            "---  ------                  --------------  -----  \n",
            " 0   days_since_prior_order  3090 non-null   float64\n",
            " 1   order_id                3090 non-null   int64  \n",
            " 2   reordered               3090 non-null   int64  \n",
            " 3   reorder_rate            3090 non-null   float64\n",
            "dtypes: float64(2), int64(2)\n",
            "memory usage: 120.7 KB\n",
            "<class 'pandas.core.frame.DataFrame'>\n",
            "Int64Index: 6738 entries, 9 to 206203\n",
            "Data columns (total 4 columns):\n",
            " #   Column                  Non-Null Count  Dtype  \n",
            "---  ------                  --------------  -----  \n",
            " 0   days_since_prior_order  6738 non-null   float64\n",
            " 1   order_id                6738 non-null   int64  \n",
            " 2   reordered               6738 non-null   int64  \n",
            " 3   reorder_rate            6738 non-null   float64\n",
            "dtypes: float64(2), int64(2)\n",
            "memory usage: 263.2 KB\n"
          ],
          "name": "stdout"
        }
      ]
    },
    {
      "cell_type": "markdown",
      "metadata": {
        "id": "ck3jRVmniHMt",
        "colab_type": "text"
      },
      "source": [
        "We have 3090 weekly users and 6738 monthly users. For a t-test, such dramatically different sample sizes with difference of variance might causing type II error. The solution is to randomly select 3000 users from the 6738 monthly users. \n"
      ]
    },
    {
      "cell_type": "code",
      "metadata": {
        "id": "9IV98YK3jsJO",
        "colab_type": "code",
        "outputId": "7a0c8d82-79cb-4e7b-fd78-2d4866baac8d",
        "colab": {
          "base_uri": "https://localhost:8080/",
          "height": 276
        }
      },
      "source": [
        "monthly_user_3000 = monthly_user.sample(n=3000, random_state =1)\n",
        "print(monthly_user_3000.head(500))\n",
        "#monthly_user_3000.info()"
      ],
      "execution_count": 0,
      "outputs": [
        {
          "output_type": "stream",
          "text": [
            "         days_since_prior_order  order_id  reordered  reorder_rate\n",
            "user_id                                                           \n",
            "193966                     30.0         8          8      1.000000\n",
            "69768                      30.0         5          5      1.000000\n",
            "136405                     30.0         6          6      1.000000\n",
            "73189                      30.0         3          3      1.000000\n",
            "181436                     30.0        17         16      0.941176\n",
            "...                         ...       ...        ...           ...\n",
            "161893                     30.0        29         29      1.000000\n",
            "36300                      30.0         6          6      1.000000\n",
            "129654                     30.0         1          1      1.000000\n",
            "72907                      30.0         1          1      1.000000\n",
            "74191                      30.0         2          2      1.000000\n",
            "\n",
            "[500 rows x 4 columns]\n"
          ],
          "name": "stdout"
        }
      ]
    },
    {
      "cell_type": "markdown",
      "metadata": {
        "id": "Hqo75kikCifW",
        "colab_type": "text"
      },
      "source": [
        "Let's take a look at their reorder rate distribution."
      ]
    },
    {
      "cell_type": "code",
      "metadata": {
        "id": "_1jVLm-pGTlg",
        "colab_type": "code",
        "outputId": "2c3f34fb-f0fc-497a-992e-162e9185f67b",
        "colab": {
          "base_uri": "https://localhost:8080/",
          "height": 368
        }
      },
      "source": [
        "fig, ax = plt.subplots(1, 2, figsize = (12,5))\n",
        "sns.distplot(weekly_user['reorder_rate'], bins=24, ax=ax[0], color = 'navy')\n",
        "plt.ylabel('users')\n",
        "ax[0].set_title('weekly_user')\n",
        "sns.distplot(monthly_user_3000['reorder_rate'], bins=24, ax=ax[1], color = 'navy')\n",
        "ax[1].set_title('monthly_user')\n",
        "plt.ylabel('users')"
      ],
      "execution_count": 0,
      "outputs": [
        {
          "output_type": "execute_result",
          "data": {
            "text/plain": [
              "Text(0, 0.5, 'users')"
            ]
          },
          "metadata": {
            "tags": []
          },
          "execution_count": 24
        },
        {
          "output_type": "display_data",
          "data": {
            "image/png": "[encoded data removed]",
            "text/plain": [
              "<Figure size 864x360 with 2 Axes>"
            ]
          },
          "metadata": {
            "tags": [],
            "needs_background": "light"
          }
        }
      ]
    },
    {
      "cell_type": "markdown",
      "metadata": {
        "id": "xg2HEgikD1IU",
        "colab_type": "text"
      },
      "source": [
        "It looks like from the distribution plot we can already see some difference between the weekly and monthly based reorder rate. The monthly_user distplot is much more left skewed indicating that there might be higher reorder_rate of monthly buyers than weekly's."
      ]
    },
    {
      "cell_type": "markdown",
      "metadata": {
        "id": "Y5WoYcV1GDAd",
        "colab_type": "text"
      },
      "source": [
        "Let's run a test to test our hypothesis. The t-test will compare the means of these two samples and give a value that indicates how different these two means are. \n"
      ]
    },
    {
      "cell_type": "code",
      "metadata": {
        "id": "BUO432jVjKdg",
        "colab_type": "code",
        "outputId": "65c0cbbe-1cf4-4f0f-9fb0-1aa8b7650cbd",
        "colab": {
          "base_uri": "https://localhost:8080/",
          "height": 35
        }
      },
      "source": [
        "stats.ttest_ind(weekly_user['reorder_rate'], monthly_user_3000['reorder_rate'])"
      ],
      "execution_count": 0,
      "outputs": [
        {
          "output_type": "execute_result",
          "data": {
            "text/plain": [
              "Ttest_indResult(statistic=-13.021130041877754, pvalue=2.997717229728271e-38)"
            ]
          },
          "metadata": {
            "tags": []
          },
          "execution_count": 44
        }
      ]
    },
    {
      "cell_type": "markdown",
      "metadata": {
        "id": "7GRmO9_LlJff",
        "colab_type": "text"
      },
      "source": [
        "There is a difference of -13 standard deviations between the two means. The p value is extremely small implying that this is a real difference. For sure reorder rate of even the most loyal users the weekly buyer and the monthly buyer still have significant difference. \n"
      ]
    },
    {
      "cell_type": "code",
      "metadata": {
        "id": "XYteZIfqpWO6",
        "colab_type": "code",
        "outputId": "53281b28-fe71-4a86-a880-2e518e3329fe",
        "colab": {
          "base_uri": "https://localhost:8080/",
          "height": 35
        }
      },
      "source": [
        "# Calculate the standard error and compute the confidence intervals\n",
        "def get_95_ci(array1, array2):\n",
        "  sample_1_n = array1.shape[0]\n",
        "  sample_2_n = array2.shape[0]\n",
        "  sample_1_mean = array1.mean()\n",
        "  sample_2_mean = array2.mean()\n",
        "  sample_1_var = array1.var()\n",
        "  sample_2_var = array2.var()\n",
        "  mean_difference = sample_1_mean - sample_2_mean\n",
        "  std_err_difference = math.sqrt((sample_1_var/sample_1_n)+(sample_2_var/sample_2_n))\n",
        "  margin_of_error = 1.96* std_err_difference\n",
        "  ci_lower = mean_difference - margin_of_error\n",
        "  ci_upper = mean_difference + margin_of_error\n",
        "  return('The difference in means at the 95% confidence interval is between '+str(ci_lower)+' and '+str(ci_upper)+'.')\n",
        "get_95_ci(weekly_user['reorder_rate'], monthly_user_3000['reorder_rate'])"
      ],
      "execution_count": 0,
      "outputs": [
        {
          "output_type": "execute_result",
          "data": {
            "text/plain": [
              "'The difference in means at the 95% confidence interval is between -0.01575716571639796 and -0.011643567551340439.'"
            ]
          },
          "metadata": {
            "tags": []
          },
          "execution_count": 42
        }
      ]
    },
    {
      "cell_type": "code",
      "metadata": {
        "id": "AOWSP4PLM9qh",
        "colab_type": "code",
        "outputId": "d88fb6ba-f32a-4294-bf04-fa50974adc34",
        "colab": {
          "base_uri": "https://localhost:8080/",
          "height": 35
        }
      },
      "source": [
        "#Cohen'd function\n",
        "def get_cohens_d(array1, array2):\n",
        "  sample_1_n = array1.shape[0]\n",
        "  sample_2_n = array2.shape[0]\n",
        "  sample_1_mean = array1.mean()\n",
        "  sample_2_mean = array2.mean()\n",
        "  sample_1_var = array1.var()\n",
        "  sample_2_var = array2.var()\n",
        "  s_pooled = math.sqrt((sample_1_var + sample_2_var)/2)\n",
        "  cohens = (sample_1_mean - sample_2_mean)/s_pooled\n",
        "\n",
        "  return (\"Cohen's d is \" +str(cohens) +\".\")\n",
        "\n",
        "print(get_cohens_d(weekly_user['reorder_rate'], monthly_user_3000['reorder_rate']))"
      ],
      "execution_count": 0,
      "outputs": [
        {
          "output_type": "stream",
          "text": [
            "Cohen's d is -0.33418784420713993.\n"
          ],
          "name": "stdout"
        }
      ]
    },
    {
      "cell_type": "markdown",
      "metadata": {
        "id": "tfXlfrtuSWIe",
        "colab_type": "text"
      },
      "source": [
        "The cohen's d at -.033 is indicating a relatively strong effect size. "
      ]
    },
    {
      "cell_type": "code",
      "metadata": {
        "id": "nHbg9A9DQpWH",
        "colab_type": "code",
        "outputId": "bbfbd66b-52c6-4aa0-d687-c02a97288a4c",
        "colab": {
          "base_uri": "https://localhost:8080/",
          "height": 367
        }
      },
      "source": [
        "test_table = pd.concat([weekly_user, monthly_user_3000])\n",
        "\n",
        "plt.figure(figsize=(8,5), )\n",
        "sns.barplot(x='days_since_prior_order', y='reorder_rate', data=test_table)\n",
        "plt.xlabel('user')\n",
        "plt.ylabel('reorder rate')\n",
        "plt.title('Reorder rate by weekly users vs montly users')"
      ],
      "execution_count": 0,
      "outputs": [
        {
          "output_type": "execute_result",
          "data": {
            "text/plain": [
              "Text(0.5, 1.0, 'Reorder rate by weekly users vs montly users')"
            ]
          },
          "metadata": {
            "tags": []
          },
          "execution_count": 69
        },
        {
          "output_type": "display_data",
          "data": {
            "image/png": "[encoded data removed]",
            "text/plain": [
              "<Figure size 576x360 with 1 Axes>"
            ]
          },
          "metadata": {
            "tags": [],
            "needs_background": "light"
          }
        }
      ]
    },
    {
      "cell_type": "markdown",
      "metadata": {
        "id": "gVgYYKL_Cx5F",
        "colab_type": "text"
      },
      "source": [
        "Based on the t-test data above, we can reject the null hypothesis that there is no difference of reorder rate between top users with a shopping frequency of one week and top users with a shopping frequency with one month. The monthly users reorder rate mean is 1.16% - 1.58% higher than the reorder rate mean of thoese weekly users with a relatively strong effect size.\n"
      ]
    },
    {
      "cell_type": "markdown",
      "metadata": {
        "id": "Ez6vTU9-EUGW",
        "colab_type": "text"
      },
      "source": [
        "# Conclusion"
      ]
    },
    {
      "cell_type": "markdown",
      "metadata": {
        "id": "FWVG49oJGLK4",
        "colab_type": "text"
      },
      "source": [
        "In conclusion, we will be able to reject the null hypothesis that order frequency will have no impact on user's reorder rate. Monthly users are clearly tend more to purchase the same products than weekly users. Based on the factor that a lot of people are paid monthly, it is possible that they will purchase the same bare necesitties every time when they are paid. A 1.16% to 1.58% higher reorder rate means that Instacart can better predict the monthly users and make better recommendations of product, even promote auto-reorder functions."
      ]
    }
  ]
}